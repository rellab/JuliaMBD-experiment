{
 "cells": [
  {
   "cell_type": "code",
   "execution_count": null,
   "metadata": {},
   "outputs": [],
   "source": [
    "using Plots\n",
    "using DifferentialEquations\n",
    "using JuliaMBD\n",
    "using JuliaMBD.Diagram\n",
    "using LookupTable"
   ]
  },
  {
   "cell_type": "code",
   "execution_count": null,
   "metadata": {},
   "outputs": [],
   "source": [
    "include(\"METI_Vertical_Vibration.jl\")"
   ]
  },
  {
   "cell_type": "code",
   "execution_count": null,
   "metadata": {},
   "outputs": [],
   "source": [
    "include(\"unittests.jl\")"
   ]
  },
  {
   "cell_type": "code",
   "execution_count": null,
   "metadata": {},
   "outputs": [],
   "source": [
    "@model sim begin\n",
    "    @block begin\n",
    "        b = Vehicle()\n",
    "        v_MUS_F2SUS_F_mps = From(tag=:v_MUS_F2SUS_F_mps)\n",
    "        d1 = Derivative()\n",
    "        L_SUS_F_stroke_m = From(tag=:L_SUS_F_stroke_m)\n",
    "        v_MUS_R2SUS_R_mps = From(tag=:v_MUS_R2SUS_R_mps)\n",
    "        d2 = Derivative()\n",
    "        L_SUS_R_stroke_m = From(tag=:L_SUS_R_stroke_m)\n",
    "        v_VL_mps = From(tag=:v_VL_mps)\n",
    "        d3 = Derivative()\n",
    "        omg_VL_pitch_rate_radps = From(tag=:omg_VL_pitch_rate_radps)\n",
    "\n",
    "        v_HM_BD_F_mps = From(tag=:v_HM_BD_F_mps)\n",
    "        a_HM_BD_F_mps2 = From(tag=:a_HM_BD_F_mps2)\n",
    "        a_HM_F_neck_rad = From(tag=:a_HM_F_neck_rad)\n",
    "        v_HM_BD_R_mps = From(tag=:v_HM_BD_R_mps)\n",
    "        a_HM_BD_R_mps2 = From(tag=:a_HM_BD_R_mps2)\n",
    "        a_HM_HD_R_neck_rad = From(tag=:a_HM_HD_R_neck_rad)\n",
    "    end\n",
    "    @connect begin\n",
    "        v_MUS_F2SUS_F_mps.out => d1.in\n",
    "        v_MUS_R2SUS_R_mps.out => d2.in\n",
    "        v_VL_mps.out => d3.in\n",
    "    end\n",
    "    @scope begin\n",
    "        d1.out => v_MUS_F2SUS_F_mps\n",
    "        L_SUS_F_stroke_m.out => L_SUS_F_stroke_m\n",
    "        d2.out => v_MUS_R2SUS_R_mps\n",
    "        L_SUS_R_stroke_m.out => L_SUS_R_stroke_m\n",
    "        d3.out => v_VL_mps\n",
    "        omg_VL_pitch_rate_radps.out => omg_VL_pitch_rate_radps\n",
    "\n",
    "        # v_HM_BD_F_mps.out => v_HM_BD_F_mps\n",
    "        # a_HM_BD_F_mps2.out => a_HM_BD_F_mps2\n",
    "        # a_HM_F_neck_rad.out => a_HM_F_neck_rad\n",
    "        # v_HM_BD_R_mps.out => v_HM_BD_R_mps\n",
    "        # a_HM_BD_R_mps2.out => a_HM_BD_R_mps2\n",
    "        # a_HM_HD_R_neck_rad.out => a_HM_HD_R_neck_rad\n",
    "    end\n",
    "end\n",
    "@time m = @compile_derivative sim()\n",
    "@time result = simulate(m, tspan=[0,60])"
   ]
  },
  {
   "cell_type": "code",
   "execution_count": null,
   "metadata": {},
   "outputs": [],
   "source": [
    "function plot3(x; vars=keys(x.outputs), layout=(length(vars), 1), ylimits = Dict(), kwargs...)\n",
    "    yr = Dict{Symbol,Union{Symbol,Tuple{Real,Real}}}([k => :auto for k = vars])\n",
    "    for (k,v) = ylimits\n",
    "        yr[k] = v\n",
    "    end\n",
    "    plts = [Plots.plot(x.ts, x.outputs[k], title=k, leg=false, ylimits=yr[k]) for k = vars]\n",
    "    Plots.plot(plts..., layout=layout; kwargs...)\n",
    "end"
   ]
  },
  {
   "cell_type": "code",
   "execution_count": null,
   "metadata": {},
   "outputs": [],
   "source": [
    "plot3(result, size=(600,800), ylimits=Dict(\n",
    "    :v_MUS_F2SUS_F_mps=>(-200,200),\n",
    "    :L_SUS_F_stroke_m=>(0.08, 0.12),\n",
    "    :v_MUS_R2SUS_R_mps=>(-200,200),\n",
    "    :L_SUS_R_stroke_m=>(0.04,0.1),\n",
    "    :v_VL_mps => (-2,2),\n",
    "    :omg_VL_pitch_rate_radps => (-0.2,0.2)\n",
    "    )\n",
    ")"
   ]
  },
  {
   "cell_type": "code",
   "execution_count": null,
   "metadata": {},
   "outputs": [],
   "source": [
    "savefig(\"monitor1.pdf\")"
   ]
  },
  {
   "cell_type": "code",
   "execution_count": null,
   "metadata": {},
   "outputs": [],
   "source": [
    "@model sim begin\n",
    "    @block begin\n",
    "        b = Vehicle()\n",
    "        v_MUS_F2SUS_F_mps = From(tag=:v_MUS_F2SUS_F_mps)\n",
    "        d1 = Derivative()\n",
    "        L_SUS_F_stroke_m = From(tag=:L_SUS_F_stroke_m)\n",
    "        v_MUS_R2SUS_R_mps = From(tag=:v_MUS_R2SUS_R_mps)\n",
    "        d2 = Derivative()\n",
    "        L_SUS_R_stroke_m = From(tag=:L_SUS_R_stroke_m)\n",
    "        v_VL_mps = From(tag=:v_VL_mps)\n",
    "        d3 = Derivative()\n",
    "        omg_VL_pitch_rate_radps = From(tag=:omg_VL_pitch_rate_radps)\n",
    "\n",
    "        v_HM_BD_F_mps = From(tag=:v_HM_BD_F_mps)\n",
    "        a_HM_BD_F_mps2 = From(tag=:a_HM_BD_F_mps2)\n",
    "        a_HM_F_neck_rad = From(tag=:a_HM_F_neck_rad)\n",
    "        v_HM_BD_R_mps = From(tag=:v_HM_BD_R_mps)\n",
    "        a_HM_BD_R_mps2 = From(tag=:a_HM_BD_R_mps2)\n",
    "        a_HM_HD_R_neck_rad = From(tag=:a_HM_HD_R_neck_rad)\n",
    "    end\n",
    "    @connect begin\n",
    "        v_MUS_F2SUS_F_mps.out => d1.in\n",
    "        v_MUS_R2SUS_R_mps.out => d2.in\n",
    "        v_VL_mps.out => d3.in\n",
    "    end\n",
    "    @scope begin\n",
    "        # # v_MUS_F2SUS_F_mps.out => v_MUS_F2SUS_F_mps\n",
    "        # d1.out => v_MUS_F2SUS_F_mps\n",
    "        # L_SUS_F_stroke_m.out => L_SUS_F_stroke_m\n",
    "        # # v_MUS_R2SUS_R_mps.out => v_MUS_R2SUS_R_mps\n",
    "        # d2.out => v_MUS_R2SUS_R_mps\n",
    "        # L_SUS_R_stroke_m.out => L_SUS_R_stroke_m\n",
    "        # # v_VL_mps.out => v_VL_mps\n",
    "        # d3.out => v_VL_mps\n",
    "        # omg_VL_pitch_rate_radps.out => omg_VL_pitch_rate_radps\n",
    "\n",
    "        v_HM_BD_F_mps.out => v_HM_BD_F_mps\n",
    "        a_HM_BD_F_mps2.out => a_HM_BD_F_mps2\n",
    "        a_HM_F_neck_rad.out => a_HM_F_neck_rad\n",
    "        v_HM_BD_R_mps.out => v_HM_BD_R_mps\n",
    "        a_HM_BD_R_mps2.out => a_HM_BD_R_mps2\n",
    "        a_HM_HD_R_neck_rad.out => a_HM_HD_R_neck_rad\n",
    "    end\n",
    "end\n",
    "@time m = @compile_derivative sim()\n",
    "@time result = simulate(m, tspan=[0,15])"
   ]
  },
  {
   "cell_type": "code",
   "execution_count": null,
   "metadata": {},
   "outputs": [],
   "source": [
    "plot3(result, size=(600,800), ylimits=Dict(\n",
    "    :v_HM_BD_F_mps => (-0.01,0.01),\n",
    "    :a_HM_BD_F_mps2 => (-0.5,1),\n",
    "    :a_HM_F_neck_rad => (-1.313,-1.312),\n",
    "    :v_HM_BD_R_mps => (-0.02,0.02),\n",
    "    :a_HM_BD_R_mps2 => (-2,2),\n",
    "    :a_HM_HD_R_neck_rad => (-1.3135,-1.3120)\n",
    "    )\n",
    ")"
   ]
  },
  {
   "cell_type": "code",
   "execution_count": null,
   "metadata": {},
   "outputs": [],
   "source": [
    "savefig(\"monitor2.pdf\")"
   ]
  },
  {
   "cell_type": "code",
   "execution_count": null,
   "metadata": {},
   "outputs": [],
   "source": []
  }
 ],
 "metadata": {
  "kernelspec": {
   "display_name": "Julia 1.9.3",
   "language": "julia",
   "name": "julia-1.9"
  },
  "language_info": {
   "file_extension": ".jl",
   "mimetype": "application/julia",
   "name": "julia",
   "version": "1.9.3"
  }
 },
 "nbformat": 4,
 "nbformat_minor": 2
}
